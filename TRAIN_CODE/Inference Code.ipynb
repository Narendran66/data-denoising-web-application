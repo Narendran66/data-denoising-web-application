{
 "cells": [
  {
   "cell_type": "code",
   "execution_count": 1,
   "id": "2cb5a570-d399-4eb9-973c-214b40b884d0",
   "metadata": {},
   "outputs": [
    {
     "name": "stderr",
     "output_type": "stream",
     "text": [
      "WARNING:absl:Compiled the loaded model, but the compiled metrics have yet to be built. `model.compile_metrics` will be empty until you train or evaluate the model.\n"
     ]
    },
    {
     "name": "stdout",
     "output_type": "stream",
     "text": [
      "Model loaded from ddae_model.h5\n",
      "\u001b[1m13/13\u001b[0m \u001b[32m━━━━━━━━━━━━━━━━━━━━\u001b[0m\u001b[37m\u001b[0m \u001b[1m0s\u001b[0m 15ms/step \n",
      "Denoised audio saved to new_denoised_audio.wav\n"
     ]
    }
   ],
   "source": [
    "import numpy as np\n",
    "import librosa\n",
    "import tensorflow as tf\n",
    "import soundfile as sf\n",
    "\n",
    "# Load the trained model with proper loss definition\n",
    "model_path = 'ddae_model.h5'  # Replace with the correct path to your model\n",
    "ddae = tf.keras.models.load_model(model_path, custom_objects={\n",
    "    'mse': tf.keras.losses.MeanSquaredError()\n",
    "})\n",
    "print(f\"Model loaded from {model_path}\")\n",
    "\n",
    "# Helper functions\n",
    "def load_audio(file_path, sr=16000):\n",
    "    \"\"\"Load audio file and return the signal.\"\"\"\n",
    "    audio, _ = librosa.load(file_path, sr=sr)\n",
    "    return audio\n",
    "\n",
    "def compute_spectrogram(audio, n_fft=512, hop_length=256):\n",
    "    \"\"\"Compute magnitude and phase of the spectrogram.\"\"\"\n",
    "    spectrogram = librosa.stft(audio, n_fft=n_fft, hop_length=hop_length)\n",
    "    magnitude = np.abs(spectrogram)\n",
    "    phase = np.angle(spectrogram)\n",
    "    return magnitude, phase\n",
    "\n",
    "def preprocess_data(audio, n_fft=512, hop_length=256):\n",
    "    \"\"\"Preprocess audio by computing its spectrogram.\"\"\"\n",
    "    magnitude, phase = compute_spectrogram(audio, n_fft, hop_length)\n",
    "    return magnitude, phase\n",
    "\n",
    "def denoise_audio(ddae, noisy_audio, n_fft=512, hop_length=256):\n",
    "    \"\"\"Denoise noisy audio using the trained model.\"\"\"\n",
    "    # Compute the spectrogram of the noisy audio\n",
    "    noisy_magnitude, noisy_phase = preprocess_data(noisy_audio, n_fft, hop_length)\n",
    "    noisy_magnitude = noisy_magnitude.T[..., np.newaxis]  # Reshape for model input\n",
    "    \n",
    "    # Predict the clean magnitude spectrogram\n",
    "    denoised_magnitude = ddae.predict(noisy_magnitude)\n",
    "    denoised_magnitude = denoised_magnitude.squeeze().T  # Reshape back to original dimensions\n",
    "    \n",
    "    # Reconstruct the audio using the denoised magnitude and original phase\n",
    "    denoised_spectrogram = denoised_magnitude * np.exp(1j * noisy_phase)\n",
    "    denoised_audio = librosa.istft(denoised_spectrogram, hop_length=hop_length)\n",
    "    return denoised_audio\n",
    "\n",
    "# Specify the noisy audio file path\n",
    "noisy_audio_path = 'p232_011.wav'  # Replace with the path to your noisy audio file\n",
    "output_denoised_path = 'new_denoised_audio.wav'\n",
    "\n",
    "# Load the noisy audio\n",
    "noisy_audio = load_audio(noisy_audio_path)\n",
    "\n",
    "# Perform denoising\n",
    "denoised_audio = denoise_audio(ddae, noisy_audio)\n",
    "\n",
    "# Save the denoised audio\n",
    "sf.write(output_denoised_path, denoised_audio, 16000)\n",
    "print(f\"Denoised audio saved to {output_denoised_path}\")"
   ]
  },
  {
   "cell_type": "code",
   "execution_count": null,
   "id": "e8f1d47c-793b-4e7d-8d14-08d6a680b023",
   "metadata": {},
   "outputs": [],
   "source": []
  }
 ],
 "metadata": {
  "kernelspec": {
   "display_name": "Python 3 (ipykernel)",
   "language": "python",
   "name": "python3"
  },
  "language_info": {
   "codemirror_mode": {
    "name": "ipython",
    "version": 3
   },
   "file_extension": ".py",
   "mimetype": "text/x-python",
   "name": "python",
   "nbconvert_exporter": "python",
   "pygments_lexer": "ipython3",
   "version": "3.12.0"
  }
 },
 "nbformat": 4,
 "nbformat_minor": 5
}
